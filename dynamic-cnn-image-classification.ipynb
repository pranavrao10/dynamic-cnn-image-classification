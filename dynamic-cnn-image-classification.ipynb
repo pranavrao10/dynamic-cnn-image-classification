{
  "cells": [
    {
      "cell_type": "code",
      "execution_count": 5,
      "metadata": {
        "id": "B0LLU_K57GRc"
      },
      "outputs": [],
      "source": [
        "import torch\n",
        "import torch.nn as nn\n",
        "import torch.optim as optim\n",
        "import torchvision\n",
        "import torchvision.transforms as transforms\n",
        "import matplotlib.pyplot as plt\n",
        "import numpy as np\n",
        "from tqdm import tqdm\n",
        "from torch.amp import autocast, GradScaler"
      ]
    },
    {
      "cell_type": "code",
      "execution_count": 6,
      "metadata": {
        "colab": {
          "base_uri": "https://localhost:8080/"
        },
        "id": "gbyg12lX7GRf",
        "outputId": "dd16c652-3de3-44b2-e120-2fa21331c2cb"
      },
      "outputs": [
        {
<<<<<<< HEAD
          "name": "stderr",
          "output_type": "stream",
          "text": [
            "100%|██████████| 170M/170M [00:23<00:00, 7.38MB/s] \n"
          ]
        },
        {
=======
>>>>>>> e5ad4cd (updated to 150 epochs)
          "name": "stdout",
          "output_type": "stream",
          "text": [
            "Batch of images shape: torch.Size([512, 3, 32, 32])\n",
            "Batch of labels shape: torch.Size([512])\n"
          ]
        }
      ],
      "source": [
        "train_transform = transforms.Compose([\n",
        "    transforms.RandomCrop(32, padding=4),\n",
        "    transforms.RandomHorizontalFlip(),\n",
        "    transforms.RandomRotation(15),\n",
        "    transforms.ColorJitter(brightness=0.2, contrast=0.2),\n",
        "    transforms.ToTensor(),\n",
        "    transforms.Normalize((0.4914, 0.4822, 0.4465), (0.2470, 0.2435, 0.2616)),\n",
        "])\n",
        "\n",
        "test_transform = transforms.Compose([\n",
        "    transforms.ToTensor(),\n",
        "    transforms.Normalize((0.4914, 0.4822, 0.4465), (0.2470, 0.2435, 0.2616)),\n",
        "])\n",
        "\n",
        "trainset = torchvision.datasets.CIFAR10(\n",
        "    root='./data', train=True, download=True, transform=train_transform)\n",
        "testset = torchvision.datasets.CIFAR10(\n",
        "    root='./data', train=False, download=True, transform=test_transform)\n",
        "\n",
        "batch_size = 512\n",
        "trainloader = torch.utils.data.DataLoader(\n",
        "    trainset, batch_size=batch_size, shuffle=True, num_workers=4, pin_memory=True)\n",
        "testloader = torch.utils.data.DataLoader(\n",
        "    testset, batch_size=batch_size, shuffle=False, num_workers=4, pin_memory=True)\n",
        "\n",
        "\n",
        "classes = ('plane', 'car', 'bird', 'cat', 'deer', 'dog', 'frog', 'horse', 'ship', 'truck')\n",
        "\n",
        "data_iter = iter(trainloader)\n",
        "images, labels = next(data_iter)\n",
        "print(\"Batch of images shape:\", images.shape)\n",
        "print(\"Batch of labels shape:\", labels.shape)"
      ]
    },
    {
      "cell_type": "markdown",
      "metadata": {
        "id": "gIF7UjdZ7GRg"
      },
      "source": [
        "#### Section 2"
      ]
    },
    {
      "cell_type": "code",
<<<<<<< HEAD
      "execution_count": null,
=======
      "execution_count": 7,
>>>>>>> e5ad4cd (updated to 150 epochs)
      "metadata": {
        "id": "1Wfn2UHY7GRg"
      },
      "outputs": [],
      "source": [
        "class IntermediateBlock(nn.Module):\n",
        "    def __init__(self, in_channels, out_channels, num_convs):\n",
        "        super().__init__()\n",
        "        self.convs = nn.ModuleList()\n",
        "        for _ in range(num_convs):\n",
        "            conv = nn.Sequential(\n",
        "                nn.Conv2d(in_channels, out_channels, 3, padding=1, bias=False),\n",
        "                nn.BatchNorm2d(out_channels),\n",
        "                nn.ReLU(inplace=True)\n",
        "            )\n",
        "            nn.init.kaiming_normal_(conv[0].weight, mode='fan_out', nonlinearity='relu')\n",
        "            self.convs.append(conv)\n",
        "\n",
        "        self.weight_generator = nn.Sequential(\n",
        "            nn.Linear(in_channels, 128),\n",
        "            nn.ReLU(),\n",
        "            nn.Linear(128, num_convs)\n",
        "        )\n",
        "\n",
        "    def forward(self, x):\n",
        "        conv_outputs = [conv(x) for conv in self.convs]\n",
        "        m = torch.mean(x, dim=[2, 3])\n",
        "        weights = torch.softmax(self.weight_generator(m), dim=1)\n",
        "\n",
        "        weights = weights.view(-1, len(self.convs), 1, 1, 1)\n",
        "        weighted_outputs = torch.stack(conv_outputs, dim=1) * weights\n",
        "        return torch.sum(weighted_outputs, dim=1)\n",
        "\n",
        "class OutputBlock(nn.Module):\n",
        "    def __init__(self, in_channels):\n",
        "        super().__init__()\n",
        "        self.fc = nn.Sequential(\n",
        "            nn.Linear(in_channels, 512),\n",
        "            nn.BatchNorm1d(512),\n",
        "            nn.ReLU(),\n",
        "            nn.Dropout(0.4),\n",
        "            nn.Linear(512, 256),\n",
        "            nn.BatchNorm1d(256),\n",
        "            nn.ReLU(),\n",
        "            nn.Dropout(0.3),\n",
        "            nn.Linear(256, 10)\n",
        "        )\n",
        "\n",
        "    def forward(self, x):\n",
        "        m = torch.mean(x, dim=[2, 3])\n",
        "        return self.fc(m)\n",
        "\n",
        "model = nn.Sequential(\n",
        "    IntermediateBlock(3, 64, 4),\n",
        "    IntermediateBlock(64, 128, 4),\n",
        "    IntermediateBlock(128, 256, 4),\n",
        "    IntermediateBlock(256, 512, 4),\n",
        "    OutputBlock(512)\n",
        ")"
      ]
    },
    {
      "cell_type": "markdown",
      "metadata": {
        "id": "lJAErFHx8TfK"
      },
      "source": [
        "#### Section 3"
      ]
    },
    {
      "cell_type": "code",
<<<<<<< HEAD
      "execution_count": null,
=======
      "execution_count": 8,
>>>>>>> e5ad4cd (updated to 150 epochs)
      "metadata": {
        "colab": {
          "base_uri": "https://localhost:8080/"
        },
        "id": "CxNGwcoX7GRh",
        "outputId": "9bdf9f19-e38c-4e0e-88e0-bafd220891ac"
      },
      "outputs": [
        {
          "name": "stderr",
          "output_type": "stream",
          "text": [
            "Epoch 1/150:   0%|          | 0/98 [00:00<?, ?it/s]"
          ]
        },
        {
          "name": "stderr",
          "output_type": "stream",
          "text": [
            "Epoch 1/150: 100%|██████████| 98/98 [00:15<00:00,  6.34it/s]\n"
          ]
        },
        {
          "name": "stdout",
          "output_type": "stream",
          "text": [
            "Epoch 1: Train Acc: 23.98% | Test Acc: 33.71% | Best: 33.71%\n"
          ]
        },
        {
          "name": "stderr",
          "output_type": "stream",
          "text": [
            "Epoch 2/150: 100%|██████████| 98/98 [00:12<00:00,  8.13it/s]\n"
          ]
        },
        {
          "name": "stdout",
          "output_type": "stream",
          "text": [
            "Epoch 2: Train Acc: 34.47% | Test Acc: 35.70% | Best: 35.70%\n"
          ]
        },
        {
          "name": "stderr",
          "output_type": "stream",
          "text": [
            "Epoch 3/150: 100%|██████████| 98/98 [00:12<00:00,  8.13it/s]\n"
          ]
        },
        {
          "name": "stdout",
          "output_type": "stream",
          "text": [
            "Epoch 3: Train Acc: 39.52% | Test Acc: 43.34% | Best: 43.34%\n"
          ]
        },
        {
          "name": "stderr",
          "output_type": "stream",
          "text": [
            "Epoch 4/150: 100%|██████████| 98/98 [00:12<00:00,  8.12it/s]\n"
          ]
        },
        {
          "name": "stdout",
          "output_type": "stream",
          "text": [
            "Epoch 4: Train Acc: 44.28% | Test Acc: 44.90% | Best: 44.90%\n"
          ]
        },
        {
          "name": "stderr",
          "output_type": "stream",
          "text": [
            "Epoch 5/150: 100%|██████████| 98/98 [00:11<00:00,  8.20it/s]\n"
          ]
        },
        {
          "name": "stdout",
          "output_type": "stream",
          "text": [
            "Epoch 5: Train Acc: 47.26% | Test Acc: 49.79% | Best: 49.79%\n"
          ]
        },
        {
          "name": "stderr",
          "output_type": "stream",
          "text": [
            "Epoch 6/150: 100%|██████████| 98/98 [00:11<00:00,  8.20it/s]\n"
          ]
        },
        {
          "name": "stdout",
          "output_type": "stream",
          "text": [
            "Epoch 6: Train Acc: 50.05% | Test Acc: 44.12% | Best: 49.79%\n"
          ]
        },
        {
          "name": "stderr",
          "output_type": "stream",
          "text": [
            "Epoch 7/150: 100%|██████████| 98/98 [00:11<00:00,  8.21it/s]\n"
          ]
        },
        {
          "name": "stdout",
          "output_type": "stream",
          "text": [
            "Epoch 7: Train Acc: 51.85% | Test Acc: 47.87% | Best: 49.79%\n"
          ]
        },
        {
          "name": "stderr",
          "output_type": "stream",
          "text": [
            "Epoch 8/150: 100%|██████████| 98/98 [00:11<00:00,  8.20it/s]\n"
          ]
        },
        {
          "name": "stdout",
          "output_type": "stream",
          "text": [
            "Epoch 8: Train Acc: 53.19% | Test Acc: 51.45% | Best: 51.45%\n"
          ]
        },
        {
          "name": "stderr",
          "output_type": "stream",
          "text": [
            "Epoch 9/150: 100%|██████████| 98/98 [00:11<00:00,  8.20it/s]\n"
          ]
        },
        {
          "name": "stdout",
          "output_type": "stream",
          "text": [
            "Epoch 9: Train Acc: 54.69% | Test Acc: 54.27% | Best: 54.27%\n"
          ]
        },
        {
          "name": "stderr",
          "output_type": "stream",
          "text": [
            "Epoch 10/150: 100%|██████████| 98/98 [00:11<00:00,  8.18it/s]\n"
          ]
        },
        {
          "name": "stdout",
          "output_type": "stream",
          "text": [
            "Epoch 10: Train Acc: 56.04% | Test Acc: 49.98% | Best: 54.27%\n"
          ]
        },
        {
          "name": "stderr",
          "output_type": "stream",
          "text": [
            "Epoch 11/150: 100%|██████████| 98/98 [00:12<00:00,  8.16it/s]\n"
          ]
        },
        {
          "name": "stdout",
          "output_type": "stream",
          "text": [
            "Epoch 11: Train Acc: 57.11% | Test Acc: 53.86% | Best: 54.27%\n"
          ]
        },
        {
          "name": "stderr",
          "output_type": "stream",
          "text": [
            "Epoch 12/150: 100%|██████████| 98/98 [00:12<00:00,  8.16it/s]\n"
          ]
        },
        {
          "name": "stdout",
          "output_type": "stream",
          "text": [
            "Epoch 12: Train Acc: 58.16% | Test Acc: 52.19% | Best: 54.27%\n"
          ]
        },
        {
          "name": "stderr",
          "output_type": "stream",
          "text": [
            "Epoch 13/150: 100%|██████████| 98/98 [00:12<00:00,  8.16it/s]\n"
          ]
        },
        {
          "name": "stdout",
          "output_type": "stream",
          "text": [
            "Epoch 13: Train Acc: 59.23% | Test Acc: 50.14% | Best: 54.27%\n"
          ]
        },
        {
          "name": "stderr",
          "output_type": "stream",
          "text": [
            "Epoch 14/150: 100%|██████████| 98/98 [00:12<00:00,  8.16it/s]\n"
          ]
        },
        {
          "name": "stdout",
          "output_type": "stream",
          "text": [
            "Epoch 14: Train Acc: 60.56% | Test Acc: 55.27% | Best: 55.27%\n"
          ]
        },
        {
          "name": "stderr",
          "output_type": "stream",
          "text": [
            "Epoch 15/150: 100%|██████████| 98/98 [00:12<00:00,  8.16it/s]\n"
          ]
        },
        {
          "name": "stdout",
          "output_type": "stream",
          "text": [
            "Epoch 15: Train Acc: 61.70% | Test Acc: 47.18% | Best: 55.27%\n"
          ]
        },
        {
          "name": "stderr",
          "output_type": "stream",
          "text": [
            "Epoch 16/150: 100%|██████████| 98/98 [00:12<00:00,  8.17it/s]\n"
          ]
        },
        {
          "name": "stdout",
          "output_type": "stream",
          "text": [
            "Epoch 16: Train Acc: 63.05% | Test Acc: 43.93% | Best: 55.27%\n"
          ]
        },
        {
          "name": "stderr",
          "output_type": "stream",
          "text": [
            "Epoch 17/150: 100%|██████████| 98/98 [00:11<00:00,  8.17it/s]\n"
          ]
        },
        {
          "name": "stdout",
          "output_type": "stream",
          "text": [
            "Epoch 17: Train Acc: 63.74% | Test Acc: 46.91% | Best: 55.27%\n"
          ]
        },
        {
          "name": "stderr",
          "output_type": "stream",
          "text": [
            "Epoch 18/150: 100%|██████████| 98/98 [00:12<00:00,  8.16it/s]\n"
          ]
        },
        {
          "name": "stdout",
          "output_type": "stream",
          "text": [
            "Epoch 18: Train Acc: 65.18% | Test Acc: 57.80% | Best: 57.80%\n"
          ]
        },
        {
          "name": "stderr",
          "output_type": "stream",
          "text": [
            "Epoch 19/150: 100%|██████████| 98/98 [00:12<00:00,  8.15it/s]\n"
          ]
        },
        {
          "name": "stdout",
          "output_type": "stream",
          "text": [
            "Epoch 19: Train Acc: 65.81% | Test Acc: 51.65% | Best: 57.80%\n"
          ]
        },
        {
          "name": "stderr",
          "output_type": "stream",
          "text": [
            "Epoch 20/150: 100%|██████████| 98/98 [00:12<00:00,  8.15it/s]\n"
          ]
        },
        {
          "name": "stdout",
          "output_type": "stream",
          "text": [
            "Epoch 20: Train Acc: 66.78% | Test Acc: 47.80% | Best: 57.80%\n"
          ]
        },
        {
          "name": "stderr",
          "output_type": "stream",
          "text": [
            "Epoch 21/150: 100%|██████████| 98/98 [00:12<00:00,  8.16it/s]\n"
          ]
        },
        {
          "name": "stdout",
          "output_type": "stream",
          "text": [
            "Epoch 21: Train Acc: 67.93% | Test Acc: 40.15% | Best: 57.80%\n"
          ]
        },
        {
          "name": "stderr",
          "output_type": "stream",
          "text": [
            "Epoch 22/150: 100%|██████████| 98/98 [00:12<00:00,  8.15it/s]\n"
          ]
        },
        {
          "name": "stdout",
          "output_type": "stream",
          "text": [
            "Epoch 22: Train Acc: 68.23% | Test Acc: 45.97% | Best: 57.80%\n"
          ]
        },
        {
          "name": "stderr",
          "output_type": "stream",
          "text": [
            "Epoch 23/150: 100%|██████████| 98/98 [00:12<00:00,  8.15it/s]\n"
          ]
        },
        {
          "name": "stdout",
          "output_type": "stream",
          "text": [
            "Epoch 23: Train Acc: 69.49% | Test Acc: 38.43% | Best: 57.80%\n"
          ]
        },
        {
          "name": "stderr",
          "output_type": "stream",
          "text": [
            "Epoch 24/150: 100%|██████████| 98/98 [00:12<00:00,  8.16it/s]\n"
          ]
        },
        {
          "name": "stdout",
          "output_type": "stream",
          "text": [
            "Epoch 24: Train Acc: 70.20% | Test Acc: 54.32% | Best: 57.80%\n"
          ]
        },
        {
          "name": "stderr",
          "output_type": "stream",
          "text": [
            "Epoch 25/150: 100%|██████████| 98/98 [00:12<00:00,  8.14it/s]\n"
          ]
        },
        {
          "name": "stdout",
          "output_type": "stream",
          "text": [
            "Epoch 25: Train Acc: 70.85% | Test Acc: 34.08% | Best: 57.80%\n"
          ]
        },
        {
          "name": "stderr",
          "output_type": "stream",
          "text": [
            "Epoch 26/150: 100%|██████████| 98/98 [00:12<00:00,  8.15it/s]\n"
          ]
        },
        {
          "name": "stdout",
          "output_type": "stream",
          "text": [
            "Epoch 26: Train Acc: 71.77% | Test Acc: 42.78% | Best: 57.80%\n"
          ]
        },
        {
          "name": "stderr",
          "output_type": "stream",
          "text": [
            "Epoch 27/150: 100%|██████████| 98/98 [00:12<00:00,  8.15it/s]\n"
          ]
        },
        {
          "name": "stdout",
          "output_type": "stream",
          "text": [
            "Epoch 27: Train Acc: 72.36% | Test Acc: 39.60% | Best: 57.80%\n"
          ]
        },
        {
          "name": "stderr",
          "output_type": "stream",
          "text": [
            "Epoch 28/150: 100%|██████████| 98/98 [00:12<00:00,  8.15it/s]\n"
          ]
        },
        {
          "name": "stdout",
          "output_type": "stream",
          "text": [
            "Epoch 28: Train Acc: 72.92% | Test Acc: 50.94% | Best: 57.80%\n"
          ]
        },
        {
          "name": "stderr",
          "output_type": "stream",
          "text": [
            "Epoch 29/150: 100%|██████████| 98/98 [00:12<00:00,  8.16it/s]\n"
          ]
        },
        {
          "name": "stdout",
          "output_type": "stream",
          "text": [
            "Epoch 29: Train Acc: 73.53% | Test Acc: 44.98% | Best: 57.80%\n"
          ]
        },
        {
          "name": "stderr",
          "output_type": "stream",
          "text": [
            "Epoch 30/150: 100%|██████████| 98/98 [00:12<00:00,  8.16it/s]\n"
          ]
        },
        {
          "name": "stdout",
          "output_type": "stream",
          "text": [
            "Epoch 30: Train Acc: 74.11% | Test Acc: 40.60% | Best: 57.80%\n"
          ]
        },
        {
          "name": "stderr",
          "output_type": "stream",
          "text": [
            "Epoch 31/150: 100%|██████████| 98/98 [00:12<00:00,  8.16it/s]\n"
          ]
        },
        {
          "name": "stdout",
          "output_type": "stream",
          "text": [
            "Epoch 31: Train Acc: 74.95% | Test Acc: 31.46% | Best: 57.80%\n"
          ]
        },
        {
          "name": "stderr",
          "output_type": "stream",
          "text": [
            "Epoch 32/150: 100%|██████████| 98/98 [00:12<00:00,  8.15it/s]\n"
          ]
        },
        {
          "name": "stdout",
          "output_type": "stream",
          "text": [
            "Epoch 32: Train Acc: 75.79% | Test Acc: 25.20% | Best: 57.80%\n"
          ]
        },
        {
          "name": "stderr",
          "output_type": "stream",
          "text": [
            "Epoch 33/150: 100%|██████████| 98/98 [00:12<00:00,  8.16it/s]\n"
          ]
        },
        {
          "name": "stdout",
          "output_type": "stream",
          "text": [
            "Epoch 33: Train Acc: 75.84% | Test Acc: 48.31% | Best: 57.80%\n"
          ]
        },
        {
          "name": "stderr",
          "output_type": "stream",
          "text": [
            "Epoch 34/150: 100%|██████████| 98/98 [00:12<00:00,  8.16it/s]\n"
          ]
        },
        {
          "name": "stdout",
          "output_type": "stream",
          "text": [
            "Epoch 34: Train Acc: 76.25% | Test Acc: 39.90% | Best: 57.80%\n"
          ]
        },
        {
          "name": "stderr",
          "output_type": "stream",
          "text": [
            "Epoch 35/150: 100%|██████████| 98/98 [00:12<00:00,  8.16it/s]\n"
          ]
        },
        {
          "name": "stdout",
          "output_type": "stream",
          "text": [
            "Epoch 35: Train Acc: 76.92% | Test Acc: 45.34% | Best: 57.80%\n"
          ]
        },
        {
          "name": "stderr",
          "output_type": "stream",
          "text": [
            "Epoch 36/150: 100%|██████████| 98/98 [00:12<00:00,  8.15it/s]\n"
          ]
        },
        {
          "name": "stdout",
          "output_type": "stream",
          "text": [
            "Epoch 36: Train Acc: 77.53% | Test Acc: 30.99% | Best: 57.80%\n"
          ]
        },
        {
          "name": "stderr",
          "output_type": "stream",
          "text": [
            "Epoch 37/150: 100%|██████████| 98/98 [00:12<00:00,  8.15it/s]\n"
          ]
        },
        {
          "name": "stdout",
          "output_type": "stream",
          "text": [
            "Epoch 37: Train Acc: 77.90% | Test Acc: 42.28% | Best: 57.80%\n"
          ]
        },
        {
          "name": "stderr",
          "output_type": "stream",
          "text": [
            "Epoch 38/150: 100%|██████████| 98/98 [00:12<00:00,  8.15it/s]\n"
          ]
        },
        {
          "name": "stdout",
          "output_type": "stream",
          "text": [
            "Epoch 38: Train Acc: 78.19% | Test Acc: 41.47% | Best: 57.80%\n"
          ]
        },
        {
          "name": "stderr",
          "output_type": "stream",
          "text": [
            "Epoch 39/150: 100%|██████████| 98/98 [00:12<00:00,  8.16it/s]\n"
          ]
        },
        {
          "name": "stdout",
          "output_type": "stream",
          "text": [
            "Epoch 39: Train Acc: 78.77% | Test Acc: 45.47% | Best: 57.80%\n"
          ]
        },
        {
          "name": "stderr",
          "output_type": "stream",
          "text": [
            "Epoch 40/150: 100%|██████████| 98/98 [00:12<00:00,  8.16it/s]\n"
          ]
        },
        {
          "name": "stdout",
          "output_type": "stream",
          "text": [
            "Epoch 40: Train Acc: 79.17% | Test Acc: 41.25% | Best: 57.80%\n"
          ]
        },
        {
          "name": "stderr",
          "output_type": "stream",
          "text": [
            "Epoch 41/150: 100%|██████████| 98/98 [00:11<00:00,  8.17it/s]\n"
          ]
        },
        {
          "name": "stdout",
          "output_type": "stream",
          "text": [
            "Epoch 41: Train Acc: 79.29% | Test Acc: 33.37% | Best: 57.80%\n"
          ]
        },
        {
          "name": "stderr",
          "output_type": "stream",
          "text": [
            "Epoch 42/150: 100%|██████████| 98/98 [00:11<00:00,  8.17it/s]\n"
          ]
        },
        {
          "name": "stdout",
          "output_type": "stream",
          "text": [
            "Epoch 42: Train Acc: 80.03% | Test Acc: 63.07% | Best: 63.07%\n"
          ]
        },
        {
          "name": "stderr",
          "output_type": "stream",
          "text": [
            "Epoch 43/150: 100%|██████████| 98/98 [00:11<00:00,  8.18it/s]\n"
          ]
        },
        {
          "name": "stdout",
          "output_type": "stream",
          "text": [
            "Epoch 43: Train Acc: 80.18% | Test Acc: 52.95% | Best: 63.07%\n"
          ]
        },
        {
          "name": "stderr",
          "output_type": "stream",
          "text": [
            "Epoch 44/150: 100%|██████████| 98/98 [00:11<00:00,  8.18it/s]\n"
          ]
        },
        {
          "name": "stdout",
          "output_type": "stream",
          "text": [
            "Epoch 44: Train Acc: 80.68% | Test Acc: 52.94% | Best: 63.07%\n"
          ]
        },
        {
          "name": "stderr",
          "output_type": "stream",
          "text": [
            "Epoch 45/150: 100%|██████████| 98/98 [00:11<00:00,  8.20it/s]\n"
          ]
        },
        {
          "name": "stdout",
          "output_type": "stream",
          "text": [
            "Epoch 45: Train Acc: 81.16% | Test Acc: 45.80% | Best: 63.07%\n"
          ]
        },
        {
          "name": "stderr",
          "output_type": "stream",
          "text": [
            "Epoch 46/150: 100%|██████████| 98/98 [00:11<00:00,  8.19it/s]\n"
          ]
        },
        {
          "name": "stdout",
          "output_type": "stream",
          "text": [
            "Epoch 46: Train Acc: 81.41% | Test Acc: 56.39% | Best: 63.07%\n"
          ]
        },
        {
          "name": "stderr",
          "output_type": "stream",
          "text": [
            "Epoch 47/150: 100%|██████████| 98/98 [00:11<00:00,  8.18it/s]\n"
          ]
        },
        {
          "name": "stdout",
          "output_type": "stream",
          "text": [
            "Epoch 47: Train Acc: 81.75% | Test Acc: 43.93% | Best: 63.07%\n"
          ]
        },
        {
          "name": "stderr",
          "output_type": "stream",
          "text": [
            "Epoch 48/150: 100%|██████████| 98/98 [00:11<00:00,  8.18it/s]\n"
          ]
        },
        {
          "name": "stdout",
          "output_type": "stream",
          "text": [
            "Epoch 48: Train Acc: 81.99% | Test Acc: 58.66% | Best: 63.07%\n"
          ]
        },
        {
          "name": "stderr",
          "output_type": "stream",
          "text": [
            "Epoch 49/150: 100%|██████████| 98/98 [00:11<00:00,  8.19it/s]\n"
          ]
        },
        {
          "name": "stdout",
          "output_type": "stream",
          "text": [
            "Epoch 49: Train Acc: 82.22% | Test Acc: 67.51% | Best: 67.51%\n"
          ]
        },
        {
          "name": "stderr",
          "output_type": "stream",
          "text": [
            "Epoch 50/150: 100%|██████████| 98/98 [00:11<00:00,  8.19it/s]\n"
          ]
        },
        {
          "name": "stdout",
          "output_type": "stream",
          "text": [
            "Epoch 50: Train Acc: 82.31% | Test Acc: 54.31% | Best: 67.51%\n"
          ]
        },
        {
          "name": "stderr",
          "output_type": "stream",
          "text": [
            "Epoch 51/150: 100%|██████████| 98/98 [00:11<00:00,  8.20it/s]\n"
          ]
        },
        {
          "name": "stdout",
          "output_type": "stream",
          "text": [
            "Epoch 51: Train Acc: 82.79% | Test Acc: 66.71% | Best: 67.51%\n"
          ]
        },
        {
          "name": "stderr",
          "output_type": "stream",
          "text": [
            "Epoch 52/150: 100%|██████████| 98/98 [00:11<00:00,  8.19it/s]\n"
          ]
        },
        {
          "name": "stdout",
          "output_type": "stream",
          "text": [
            "Epoch 52: Train Acc: 83.13% | Test Acc: 50.98% | Best: 67.51%\n"
          ]
        },
        {
          "name": "stderr",
          "output_type": "stream",
          "text": [
            "Epoch 53/150: 100%|██████████| 98/98 [00:11<00:00,  8.19it/s]\n"
          ]
        },
        {
          "name": "stdout",
          "output_type": "stream",
          "text": [
            "Epoch 53: Train Acc: 83.23% | Test Acc: 59.88% | Best: 67.51%\n"
          ]
        },
        {
          "name": "stderr",
          "output_type": "stream",
          "text": [
            "Epoch 54/150: 100%|██████████| 98/98 [00:11<00:00,  8.20it/s]\n"
          ]
        },
        {
          "name": "stdout",
          "output_type": "stream",
          "text": [
            "Epoch 54: Train Acc: 83.59% | Test Acc: 65.39% | Best: 67.51%\n"
          ]
        },
        {
          "name": "stderr",
          "output_type": "stream",
          "text": [
            "Epoch 55/150: 100%|██████████| 98/98 [00:11<00:00,  8.20it/s]\n"
          ]
        },
        {
          "name": "stdout",
          "output_type": "stream",
          "text": [
            "Epoch 55: Train Acc: 83.86% | Test Acc: 65.96% | Best: 67.51%\n"
          ]
        },
        {
          "name": "stderr",
          "output_type": "stream",
          "text": [
            "Epoch 56/150: 100%|██████████| 98/98 [00:11<00:00,  8.19it/s]\n"
          ]
        },
        {
          "name": "stdout",
          "output_type": "stream",
          "text": [
            "Epoch 56: Train Acc: 83.72% | Test Acc: 64.70% | Best: 67.51%\n"
          ]
        },
        {
          "name": "stderr",
          "output_type": "stream",
          "text": [
            "Epoch 57/150: 100%|██████████| 98/98 [00:11<00:00,  8.20it/s]\n"
          ]
        },
        {
          "name": "stdout",
          "output_type": "stream",
          "text": [
            "Epoch 57: Train Acc: 84.02% | Test Acc: 52.88% | Best: 67.51%\n"
          ]
        },
        {
          "name": "stderr",
          "output_type": "stream",
          "text": [
            "Epoch 58/150: 100%|██████████| 98/98 [00:11<00:00,  8.19it/s]\n"
          ]
        },
        {
          "name": "stdout",
          "output_type": "stream",
          "text": [
            "Epoch 58: Train Acc: 84.07% | Test Acc: 64.73% | Best: 67.51%\n"
          ]
        },
        {
          "name": "stderr",
          "output_type": "stream",
          "text": [
            "Epoch 59/150: 100%|██████████| 98/98 [00:11<00:00,  8.20it/s]\n"
          ]
        },
        {
          "name": "stdout",
          "output_type": "stream",
          "text": [
            "Epoch 59: Train Acc: 84.43% | Test Acc: 69.67% | Best: 69.67%\n"
          ]
        },
        {
          "name": "stderr",
          "output_type": "stream",
          "text": [
            "Epoch 60/150: 100%|██████████| 98/98 [00:11<00:00,  8.20it/s]\n"
          ]
        },
        {
          "name": "stdout",
          "output_type": "stream",
          "text": [
            "Epoch 60: Train Acc: 84.30% | Test Acc: 68.32% | Best: 69.67%\n"
          ]
        },
        {
          "name": "stderr",
          "output_type": "stream",
          "text": [
            "Epoch 61/150: 100%|██████████| 98/98 [00:11<00:00,  8.19it/s]\n"
          ]
        },
        {
          "name": "stdout",
          "output_type": "stream",
          "text": [
            "Epoch 61: Train Acc: 84.69% | Test Acc: 64.16% | Best: 69.67%\n"
          ]
        },
        {
          "name": "stderr",
          "output_type": "stream",
          "text": [
            "Epoch 62/150: 100%|██████████| 98/98 [00:11<00:00,  8.20it/s]\n"
          ]
        },
        {
          "name": "stdout",
          "output_type": "stream",
          "text": [
            "Epoch 62: Train Acc: 84.75% | Test Acc: 75.06% | Best: 75.06%\n"
          ]
        },
        {
          "name": "stderr",
          "output_type": "stream",
          "text": [
            "Epoch 63/150: 100%|██████████| 98/98 [00:11<00:00,  8.20it/s]\n"
          ]
        },
        {
          "name": "stdout",
          "output_type": "stream",
          "text": [
            "Epoch 63: Train Acc: 84.68% | Test Acc: 56.68% | Best: 75.06%\n"
          ]
        },
        {
          "name": "stderr",
          "output_type": "stream",
          "text": [
            "Epoch 64/150: 100%|██████████| 98/98 [00:11<00:00,  8.20it/s]\n"
          ]
        },
        {
          "name": "stdout",
          "output_type": "stream",
          "text": [
            "Epoch 64: Train Acc: 85.12% | Test Acc: 69.21% | Best: 75.06%\n"
          ]
        },
        {
          "name": "stderr",
          "output_type": "stream",
          "text": [
            "Epoch 65/150: 100%|██████████| 98/98 [00:11<00:00,  8.20it/s]\n"
          ]
        },
        {
          "name": "stdout",
          "output_type": "stream",
          "text": [
            "Epoch 65: Train Acc: 85.10% | Test Acc: 65.65% | Best: 75.06%\n"
          ]
        },
        {
          "name": "stderr",
          "output_type": "stream",
          "text": [
            "Epoch 66/150: 100%|██████████| 98/98 [00:11<00:00,  8.20it/s]\n"
          ]
        },
        {
          "name": "stdout",
          "output_type": "stream",
          "text": [
            "Epoch 66: Train Acc: 85.36% | Test Acc: 69.94% | Best: 75.06%\n"
          ]
        },
        {
          "name": "stderr",
          "output_type": "stream",
          "text": [
            "Epoch 67/150: 100%|██████████| 98/98 [00:11<00:00,  8.20it/s]\n"
          ]
        },
        {
          "name": "stdout",
          "output_type": "stream",
          "text": [
            "Epoch 67: Train Acc: 85.58% | Test Acc: 63.84% | Best: 75.06%\n"
          ]
        },
        {
          "name": "stderr",
          "output_type": "stream",
          "text": [
            "Epoch 68/150: 100%|██████████| 98/98 [00:11<00:00,  8.20it/s]\n"
          ]
        },
        {
          "name": "stdout",
          "output_type": "stream",
          "text": [
            "Epoch 68: Train Acc: 85.71% | Test Acc: 73.17% | Best: 75.06%\n"
          ]
        },
        {
          "name": "stderr",
          "output_type": "stream",
          "text": [
            "Epoch 69/150: 100%|██████████| 98/98 [00:11<00:00,  8.20it/s]\n"
          ]
        },
        {
          "name": "stdout",
          "output_type": "stream",
          "text": [
            "Epoch 69: Train Acc: 85.62% | Test Acc: 64.16% | Best: 75.06%\n"
          ]
        },
        {
          "name": "stderr",
          "output_type": "stream",
          "text": [
            "Epoch 70/150: 100%|██████████| 98/98 [00:11<00:00,  8.20it/s]\n"
          ]
        },
        {
          "name": "stdout",
          "output_type": "stream",
          "text": [
            "Epoch 70: Train Acc: 85.96% | Test Acc: 60.03% | Best: 75.06%\n"
          ]
        },
        {
          "name": "stderr",
          "output_type": "stream",
          "text": [
            "Epoch 71/150: 100%|██████████| 98/98 [00:11<00:00,  8.18it/s]\n"
          ]
        },
        {
          "name": "stdout",
          "output_type": "stream",
          "text": [
            "Epoch 71: Train Acc: 86.06% | Test Acc: 74.68% | Best: 75.06%\n"
          ]
        },
        {
          "name": "stderr",
          "output_type": "stream",
          "text": [
            "Epoch 72/150: 100%|██████████| 98/98 [00:11<00:00,  8.20it/s]\n"
          ]
        },
        {
          "name": "stdout",
          "output_type": "stream",
          "text": [
            "Epoch 72: Train Acc: 85.91% | Test Acc: 66.27% | Best: 75.06%\n"
          ]
        },
        {
          "name": "stderr",
          "output_type": "stream",
          "text": [
            "Epoch 73/150: 100%|██████████| 98/98 [00:11<00:00,  8.19it/s]\n"
          ]
        },
        {
          "name": "stdout",
          "output_type": "stream",
          "text": [
            "Epoch 73: Train Acc: 86.27% | Test Acc: 69.20% | Best: 75.06%\n"
          ]
        },
        {
          "name": "stderr",
          "output_type": "stream",
          "text": [
            "Epoch 74/150: 100%|██████████| 98/98 [00:11<00:00,  8.20it/s]\n"
          ]
        },
        {
          "name": "stdout",
          "output_type": "stream",
          "text": [
            "Epoch 74: Train Acc: 86.32% | Test Acc: 69.56% | Best: 75.06%\n"
          ]
        },
        {
          "name": "stderr",
          "output_type": "stream",
          "text": [
            "Epoch 75/150: 100%|██████████| 98/98 [00:11<00:00,  8.20it/s]\n"
          ]
        },
        {
          "name": "stdout",
          "output_type": "stream",
          "text": [
            "Epoch 75: Train Acc: 86.49% | Test Acc: 76.48% | Best: 76.48%\n"
          ]
        },
        {
          "name": "stderr",
          "output_type": "stream",
          "text": [
            "Epoch 76/150: 100%|██████████| 98/98 [00:11<00:00,  8.20it/s]\n"
          ]
        },
        {
          "name": "stdout",
          "output_type": "stream",
          "text": [
            "Epoch 76: Train Acc: 86.71% | Test Acc: 74.69% | Best: 76.48%\n"
          ]
        },
        {
          "name": "stderr",
          "output_type": "stream",
          "text": [
            "Epoch 77/150: 100%|██████████| 98/98 [00:11<00:00,  8.21it/s]\n"
          ]
        },
        {
          "name": "stdout",
          "output_type": "stream",
          "text": [
            "Epoch 77: Train Acc: 86.83% | Test Acc: 71.62% | Best: 76.48%\n"
          ]
        },
        {
          "name": "stderr",
          "output_type": "stream",
          "text": [
            "Epoch 78/150: 100%|██████████| 98/98 [00:11<00:00,  8.20it/s]\n"
          ]
        },
        {
          "name": "stdout",
          "output_type": "stream",
          "text": [
            "Epoch 78: Train Acc: 86.84% | Test Acc: 61.85% | Best: 76.48%\n"
          ]
        },
        {
          "name": "stderr",
          "output_type": "stream",
          "text": [
            "Epoch 79/150: 100%|██████████| 98/98 [00:11<00:00,  8.21it/s]\n"
          ]
        },
        {
          "name": "stdout",
          "output_type": "stream",
          "text": [
            "Epoch 79: Train Acc: 86.92% | Test Acc: 71.74% | Best: 76.48%\n"
          ]
        },
        {
          "name": "stderr",
          "output_type": "stream",
          "text": [
            "Epoch 80/150: 100%|██████████| 98/98 [00:11<00:00,  8.20it/s]\n"
          ]
        },
        {
          "name": "stdout",
          "output_type": "stream",
          "text": [
            "Epoch 80: Train Acc: 86.96% | Test Acc: 66.35% | Best: 76.48%\n"
          ]
        },
        {
          "name": "stderr",
          "output_type": "stream",
          "text": [
            "Epoch 81/150: 100%|██████████| 98/98 [00:11<00:00,  8.20it/s]\n"
          ]
        },
        {
          "name": "stdout",
          "output_type": "stream",
          "text": [
            "Epoch 81: Train Acc: 87.14% | Test Acc: 72.11% | Best: 76.48%\n"
          ]
        },
        {
          "name": "stderr",
          "output_type": "stream",
          "text": [
            "Epoch 82/150: 100%|██████████| 98/98 [00:11<00:00,  8.20it/s]\n"
          ]
        },
        {
          "name": "stdout",
          "output_type": "stream",
          "text": [
            "Epoch 82: Train Acc: 87.47% | Test Acc: 67.82% | Best: 76.48%\n"
          ]
        },
        {
          "name": "stderr",
          "output_type": "stream",
          "text": [
            "Epoch 83/150: 100%|██████████| 98/98 [00:11<00:00,  8.20it/s]\n"
          ]
        },
        {
          "name": "stdout",
          "output_type": "stream",
          "text": [
            "Epoch 83: Train Acc: 87.69% | Test Acc: 75.55% | Best: 76.48%\n"
          ]
        },
        {
          "name": "stderr",
          "output_type": "stream",
          "text": [
            "Epoch 84/150: 100%|██████████| 98/98 [00:11<00:00,  8.19it/s]\n"
          ]
        },
        {
          "name": "stdout",
          "output_type": "stream",
          "text": [
            "Epoch 84: Train Acc: 87.65% | Test Acc: 66.54% | Best: 76.48%\n"
          ]
        },
        {
          "name": "stderr",
          "output_type": "stream",
          "text": [
            "Epoch 85/150: 100%|██████████| 98/98 [00:11<00:00,  8.20it/s]\n"
          ]
        },
        {
          "name": "stdout",
          "output_type": "stream",
          "text": [
            "Epoch 85: Train Acc: 87.76% | Test Acc: 73.07% | Best: 76.48%\n"
          ]
        },
        {
          "name": "stderr",
          "output_type": "stream",
          "text": [
            "Epoch 86/150: 100%|██████████| 98/98 [00:11<00:00,  8.20it/s]\n"
          ]
        },
        {
          "name": "stdout",
          "output_type": "stream",
          "text": [
            "Epoch 86: Train Acc: 87.90% | Test Acc: 65.37% | Best: 76.48%\n"
          ]
        },
        {
          "name": "stderr",
          "output_type": "stream",
          "text": [
            "Epoch 87/150: 100%|██████████| 98/98 [00:11<00:00,  8.20it/s]\n"
          ]
        },
        {
          "name": "stdout",
          "output_type": "stream",
          "text": [
            "Epoch 87: Train Acc: 87.99% | Test Acc: 74.25% | Best: 76.48%\n"
          ]
        },
        {
          "name": "stderr",
          "output_type": "stream",
          "text": [
            "Epoch 88/150: 100%|██████████| 98/98 [00:11<00:00,  8.20it/s]\n"
          ]
        },
        {
          "name": "stdout",
          "output_type": "stream",
          "text": [
            "Epoch 88: Train Acc: 88.19% | Test Acc: 77.26% | Best: 77.26%\n"
          ]
        },
        {
          "name": "stderr",
          "output_type": "stream",
          "text": [
            "Epoch 89/150: 100%|██████████| 98/98 [00:11<00:00,  8.19it/s]\n"
          ]
        },
        {
          "name": "stdout",
          "output_type": "stream",
          "text": [
            "Epoch 89: Train Acc: 88.00% | Test Acc: 67.54% | Best: 77.26%\n"
          ]
        },
        {
          "name": "stderr",
          "output_type": "stream",
          "text": [
            "Epoch 90/150: 100%|██████████| 98/98 [00:11<00:00,  8.20it/s]\n"
          ]
        },
        {
          "name": "stdout",
          "output_type": "stream",
          "text": [
            "Epoch 90: Train Acc: 88.28% | Test Acc: 63.18% | Best: 77.26%\n"
          ]
        },
        {
          "name": "stderr",
          "output_type": "stream",
          "text": [
            "Epoch 91/150: 100%|██████████| 98/98 [00:11<00:00,  8.20it/s]\n"
          ]
        },
        {
          "name": "stdout",
          "output_type": "stream",
          "text": [
            "Epoch 91: Train Acc: 88.42% | Test Acc: 62.49% | Best: 77.26%\n"
          ]
        },
        {
          "name": "stderr",
          "output_type": "stream",
          "text": [
            "Epoch 92/150: 100%|██████████| 98/98 [00:11<00:00,  8.20it/s]\n"
          ]
        },
        {
          "name": "stdout",
          "output_type": "stream",
          "text": [
            "Epoch 92: Train Acc: 88.42% | Test Acc: 63.59% | Best: 77.26%\n"
          ]
        },
        {
          "name": "stderr",
          "output_type": "stream",
          "text": [
            "Epoch 93/150: 100%|██████████| 98/98 [00:11<00:00,  8.19it/s]\n"
          ]
        },
        {
          "name": "stdout",
          "output_type": "stream",
          "text": [
            "Epoch 93: Train Acc: 88.54% | Test Acc: 71.92% | Best: 77.26%\n"
          ]
        },
        {
          "name": "stderr",
          "output_type": "stream",
          "text": [
            "Epoch 94/150: 100%|██████████| 98/98 [00:11<00:00,  8.21it/s]\n"
          ]
        },
        {
          "name": "stdout",
          "output_type": "stream",
          "text": [
            "Epoch 94: Train Acc: 88.70% | Test Acc: 81.47% | Best: 81.47%\n"
          ]
        },
        {
          "name": "stderr",
          "output_type": "stream",
          "text": [
            "Epoch 95/150: 100%|██████████| 98/98 [00:11<00:00,  8.20it/s]\n"
          ]
        },
        {
          "name": "stdout",
          "output_type": "stream",
          "text": [
            "Epoch 95: Train Acc: 88.95% | Test Acc: 75.12% | Best: 81.47%\n"
          ]
        },
        {
          "name": "stderr",
          "output_type": "stream",
          "text": [
            "Epoch 96/150: 100%|██████████| 98/98 [00:11<00:00,  8.20it/s]\n"
          ]
        },
        {
          "name": "stdout",
          "output_type": "stream",
          "text": [
            "Epoch 96: Train Acc: 89.06% | Test Acc: 67.22% | Best: 81.47%\n"
          ]
        },
        {
          "name": "stderr",
          "output_type": "stream",
          "text": [
            "Epoch 97/150: 100%|██████████| 98/98 [00:11<00:00,  8.20it/s]\n"
          ]
        },
        {
          "name": "stdout",
          "output_type": "stream",
          "text": [
            "Epoch 97: Train Acc: 89.29% | Test Acc: 74.18% | Best: 81.47%\n"
          ]
        },
        {
          "name": "stderr",
          "output_type": "stream",
          "text": [
            "Epoch 98/150: 100%|██████████| 98/98 [00:11<00:00,  8.20it/s]\n"
          ]
        },
        {
          "name": "stdout",
          "output_type": "stream",
          "text": [
            "Epoch 98: Train Acc: 89.23% | Test Acc: 72.54% | Best: 81.47%\n"
          ]
        },
        {
          "name": "stderr",
          "output_type": "stream",
          "text": [
            "Epoch 99/150: 100%|██████████| 98/98 [00:11<00:00,  8.20it/s]\n"
          ]
        },
        {
          "name": "stdout",
          "output_type": "stream",
          "text": [
            "Epoch 99: Train Acc: 89.53% | Test Acc: 68.41% | Best: 81.47%\n"
          ]
        },
        {
          "name": "stderr",
          "output_type": "stream",
          "text": [
            "Epoch 100/150: 100%|██████████| 98/98 [00:11<00:00,  8.20it/s]\n"
          ]
        },
        {
          "name": "stdout",
          "output_type": "stream",
          "text": [
            "Epoch 100: Train Acc: 89.55% | Test Acc: 70.96% | Best: 81.47%\n"
          ]
        },
        {
          "name": "stderr",
          "output_type": "stream",
          "text": [
            "Epoch 101/150: 100%|██████████| 98/98 [00:11<00:00,  8.20it/s]\n"
          ]
        },
        {
          "name": "stdout",
          "output_type": "stream",
          "text": [
            "Epoch 101: Train Acc: 89.93% | Test Acc: 74.14% | Best: 81.47%\n"
          ]
        },
        {
          "name": "stderr",
          "output_type": "stream",
          "text": [
            "Epoch 102/150: 100%|██████████| 98/98 [00:11<00:00,  8.20it/s]\n"
          ]
        },
        {
          "name": "stdout",
          "output_type": "stream",
          "text": [
            "Epoch 102: Train Acc: 89.86% | Test Acc: 74.76% | Best: 81.47%\n"
          ]
        },
        {
          "name": "stderr",
          "output_type": "stream",
          "text": [
            "Epoch 103/150: 100%|██████████| 98/98 [00:11<00:00,  8.20it/s]\n"
          ]
        },
        {
          "name": "stdout",
          "output_type": "stream",
          "text": [
            "Epoch 103: Train Acc: 90.15% | Test Acc: 70.38% | Best: 81.47%\n"
          ]
        },
        {
          "name": "stderr",
          "output_type": "stream",
          "text": [
            "Epoch 104/150: 100%|██████████| 98/98 [00:11<00:00,  8.19it/s]\n"
          ]
        },
        {
          "name": "stdout",
          "output_type": "stream",
          "text": [
            "Epoch 104: Train Acc: 90.37% | Test Acc: 80.48% | Best: 81.47%\n"
          ]
        },
        {
          "name": "stderr",
          "output_type": "stream",
          "text": [
            "Epoch 105/150: 100%|██████████| 98/98 [00:11<00:00,  8.20it/s]\n"
          ]
        },
        {
          "name": "stdout",
          "output_type": "stream",
          "text": [
            "Epoch 105: Train Acc: 90.61% | Test Acc: 62.14% | Best: 81.47%\n"
          ]
        },
        {
          "name": "stderr",
          "output_type": "stream",
          "text": [
            "Epoch 106/150: 100%|██████████| 98/98 [00:11<00:00,  8.21it/s]\n"
          ]
        },
        {
          "name": "stdout",
          "output_type": "stream",
          "text": [
            "Epoch 106: Train Acc: 90.82% | Test Acc: 72.56% | Best: 81.47%\n"
          ]
        },
        {
          "name": "stderr",
          "output_type": "stream",
          "text": [
            "Epoch 107/150: 100%|██████████| 98/98 [00:11<00:00,  8.20it/s]\n"
          ]
        },
        {
          "name": "stdout",
          "output_type": "stream",
          "text": [
            "Epoch 107: Train Acc: 90.90% | Test Acc: 76.74% | Best: 81.47%\n"
          ]
        },
        {
          "name": "stderr",
          "output_type": "stream",
          "text": [
            "Epoch 108/150: 100%|██████████| 98/98 [00:11<00:00,  8.20it/s]\n"
          ]
        },
        {
          "name": "stdout",
          "output_type": "stream",
          "text": [
            "Epoch 108: Train Acc: 91.11% | Test Acc: 70.78% | Best: 81.47%\n"
          ]
        },
        {
          "name": "stderr",
          "output_type": "stream",
          "text": [
            "Epoch 109/150: 100%|██████████| 98/98 [00:11<00:00,  8.20it/s]\n"
          ]
        },
        {
          "name": "stdout",
          "output_type": "stream",
          "text": [
            "Epoch 109: Train Acc: 91.37% | Test Acc: 80.94% | Best: 81.47%\n"
          ]
        },
        {
          "name": "stderr",
          "output_type": "stream",
          "text": [
            "Epoch 110/150: 100%|██████████| 98/98 [00:11<00:00,  8.19it/s]\n"
          ]
        },
        {
          "name": "stdout",
          "output_type": "stream",
          "text": [
            "Epoch 110: Train Acc: 91.49% | Test Acc: 76.13% | Best: 81.47%\n"
          ]
        },
        {
          "name": "stderr",
          "output_type": "stream",
          "text": [
            "Epoch 111/150: 100%|██████████| 98/98 [00:11<00:00,  8.20it/s]\n"
          ]
        },
        {
          "name": "stdout",
          "output_type": "stream",
          "text": [
            "Epoch 111: Train Acc: 91.66% | Test Acc: 79.56% | Best: 81.47%\n"
          ]
        },
        {
          "name": "stderr",
          "output_type": "stream",
          "text": [
            "Epoch 112/150: 100%|██████████| 98/98 [00:11<00:00,  8.19it/s]\n"
          ]
        },
        {
          "name": "stdout",
          "output_type": "stream",
          "text": [
            "Epoch 112: Train Acc: 91.90% | Test Acc: 82.40% | Best: 82.40%\n"
          ]
        },
        {
          "name": "stderr",
          "output_type": "stream",
          "text": [
            "Epoch 113/150: 100%|██████████| 98/98 [00:11<00:00,  8.20it/s]\n"
          ]
        },
        {
          "name": "stdout",
          "output_type": "stream",
          "text": [
            "Epoch 113: Train Acc: 91.98% | Test Acc: 75.05% | Best: 82.40%\n"
          ]
        },
        {
          "name": "stderr",
          "output_type": "stream",
          "text": [
            "Epoch 114/150: 100%|██████████| 98/98 [00:11<00:00,  8.20it/s]\n"
          ]
        },
        {
          "name": "stdout",
          "output_type": "stream",
          "text": [
            "Epoch 114: Train Acc: 92.21% | Test Acc: 77.70% | Best: 82.40%\n"
          ]
        },
        {
          "name": "stderr",
          "output_type": "stream",
          "text": [
            "Epoch 115/150: 100%|██████████| 98/98 [00:11<00:00,  8.19it/s]\n"
          ]
        },
        {
          "name": "stdout",
          "output_type": "stream",
          "text": [
            "Epoch 115: Train Acc: 92.70% | Test Acc: 83.35% | Best: 83.35%\n"
          ]
        },
        {
          "name": "stderr",
          "output_type": "stream",
          "text": [
            "Epoch 116/150: 100%|██████████| 98/98 [00:11<00:00,  8.20it/s]\n"
          ]
        },
        {
          "name": "stdout",
          "output_type": "stream",
          "text": [
            "Epoch 116: Train Acc: 92.84% | Test Acc: 78.71% | Best: 83.35%\n"
          ]
        },
        {
          "name": "stderr",
          "output_type": "stream",
          "text": [
            "Epoch 117/150: 100%|██████████| 98/98 [00:11<00:00,  8.20it/s]\n"
          ]
        },
        {
          "name": "stdout",
          "output_type": "stream",
          "text": [
            "Epoch 117: Train Acc: 93.09% | Test Acc: 76.38% | Best: 83.35%\n"
          ]
        },
        {
          "name": "stderr",
          "output_type": "stream",
          "text": [
            "Epoch 118/150: 100%|██████████| 98/98 [00:11<00:00,  8.20it/s]\n"
          ]
        },
        {
          "name": "stdout",
          "output_type": "stream",
          "text": [
            "Epoch 118: Train Acc: 93.30% | Test Acc: 86.40% | Best: 86.40%\n"
          ]
        },
        {
          "name": "stderr",
          "output_type": "stream",
          "text": [
            "Epoch 119/150: 100%|██████████| 98/98 [00:11<00:00,  8.20it/s]\n"
          ]
        },
        {
          "name": "stdout",
          "output_type": "stream",
          "text": [
            "Epoch 119: Train Acc: 93.46% | Test Acc: 83.81% | Best: 86.40%\n"
          ]
        },
        {
          "name": "stderr",
          "output_type": "stream",
          "text": [
            "Epoch 120/150: 100%|██████████| 98/98 [00:11<00:00,  8.20it/s]\n"
          ]
        },
        {
          "name": "stdout",
          "output_type": "stream",
          "text": [
            "Epoch 120: Train Acc: 93.68% | Test Acc: 67.73% | Best: 86.40%\n"
          ]
        },
        {
          "name": "stderr",
          "output_type": "stream",
          "text": [
            "Epoch 121/150: 100%|██████████| 98/98 [00:11<00:00,  8.20it/s]\n"
          ]
        },
        {
          "name": "stdout",
          "output_type": "stream",
          "text": [
            "Epoch 121: Train Acc: 94.12% | Test Acc: 82.21% | Best: 86.40%\n"
          ]
        },
        {
          "name": "stderr",
          "output_type": "stream",
          "text": [
            "Epoch 122/150: 100%|██████████| 98/98 [00:11<00:00,  8.20it/s]\n"
          ]
        },
        {
          "name": "stdout",
          "output_type": "stream",
          "text": [
            "Epoch 122: Train Acc: 94.28% | Test Acc: 85.05% | Best: 86.40%\n"
          ]
        },
        {
          "name": "stderr",
          "output_type": "stream",
          "text": [
            "Epoch 123/150: 100%|██████████| 98/98 [00:11<00:00,  8.20it/s]\n"
          ]
        },
        {
          "name": "stdout",
          "output_type": "stream",
          "text": [
            "Epoch 123: Train Acc: 94.65% | Test Acc: 83.64% | Best: 86.40%\n"
          ]
        },
        {
          "name": "stderr",
          "output_type": "stream",
          "text": [
            "Epoch 124/150: 100%|██████████| 98/98 [00:11<00:00,  8.20it/s]\n"
          ]
        },
        {
          "name": "stdout",
          "output_type": "stream",
          "text": [
            "Epoch 124: Train Acc: 94.80% | Test Acc: 79.73% | Best: 86.40%\n"
          ]
        },
        {
          "name": "stderr",
          "output_type": "stream",
          "text": [
            "Epoch 125/150: 100%|██████████| 98/98 [00:11<00:00,  8.20it/s]\n"
          ]
        },
        {
          "name": "stdout",
          "output_type": "stream",
          "text": [
            "Epoch 125: Train Acc: 95.04% | Test Acc: 83.63% | Best: 86.40%\n"
          ]
        },
        {
          "name": "stderr",
          "output_type": "stream",
          "text": [
            "Epoch 126/150: 100%|██████████| 98/98 [00:11<00:00,  8.20it/s]\n"
          ]
        },
        {
          "name": "stdout",
          "output_type": "stream",
          "text": [
            "Epoch 126: Train Acc: 95.23% | Test Acc: 85.95% | Best: 86.40%\n"
          ]
        },
        {
          "name": "stderr",
          "output_type": "stream",
          "text": [
            "Epoch 127/150: 100%|██████████| 98/98 [00:11<00:00,  8.20it/s]\n"
          ]
        },
        {
          "name": "stdout",
          "output_type": "stream",
          "text": [
            "Epoch 127: Train Acc: 95.71% | Test Acc: 87.20% | Best: 87.20%\n"
          ]
        },
        {
          "name": "stderr",
          "output_type": "stream",
          "text": [
            "Epoch 128/150: 100%|██████████| 98/98 [00:11<00:00,  8.20it/s]\n"
          ]
        },
        {
          "name": "stdout",
          "output_type": "stream",
          "text": [
            "Epoch 128: Train Acc: 95.90% | Test Acc: 85.69% | Best: 87.20%\n"
          ]
        },
        {
          "name": "stderr",
          "output_type": "stream",
          "text": [
            "Epoch 129/150: 100%|██████████| 98/98 [00:11<00:00,  8.20it/s]\n"
          ]
        },
        {
          "name": "stdout",
          "output_type": "stream",
          "text": [
            "Epoch 129: Train Acc: 96.18% | Test Acc: 86.72% | Best: 87.20%\n"
          ]
        },
        {
          "name": "stderr",
          "output_type": "stream",
          "text": [
            "Epoch 130/150: 100%|██████████| 98/98 [00:11<00:00,  8.20it/s]\n"
          ]
        },
        {
          "name": "stdout",
          "output_type": "stream",
          "text": [
            "Epoch 130: Train Acc: 96.34% | Test Acc: 87.53% | Best: 87.53%\n"
          ]
        },
        {
          "name": "stderr",
          "output_type": "stream",
          "text": [
            "Epoch 131/150: 100%|██████████| 98/98 [00:11<00:00,  8.20it/s]\n"
          ]
        },
        {
          "name": "stdout",
          "output_type": "stream",
          "text": [
            "Epoch 131: Train Acc: 96.70% | Test Acc: 88.32% | Best: 88.32%\n"
          ]
        },
        {
          "name": "stderr",
          "output_type": "stream",
          "text": [
            "Epoch 132/150: 100%|██████████| 98/98 [00:11<00:00,  8.20it/s]\n"
          ]
        },
        {
          "name": "stdout",
          "output_type": "stream",
          "text": [
            "Epoch 132: Train Acc: 96.93% | Test Acc: 86.74% | Best: 88.32%\n"
          ]
        },
        {
          "name": "stderr",
          "output_type": "stream",
          "text": [
            "Epoch 133/150: 100%|██████████| 98/98 [00:11<00:00,  8.19it/s]\n"
          ]
        },
        {
          "name": "stdout",
          "output_type": "stream",
          "text": [
            "Epoch 133: Train Acc: 97.31% | Test Acc: 87.17% | Best: 88.32%\n"
          ]
        },
        {
          "name": "stderr",
          "output_type": "stream",
          "text": [
            "Epoch 134/150: 100%|██████████| 98/98 [00:11<00:00,  8.20it/s]\n"
          ]
        },
        {
          "name": "stdout",
          "output_type": "stream",
          "text": [
            "Epoch 134: Train Acc: 97.49% | Test Acc: 86.26% | Best: 88.32%\n"
          ]
        },
        {
          "name": "stderr",
          "output_type": "stream",
          "text": [
            "Epoch 135/150: 100%|██████████| 98/98 [00:11<00:00,  8.20it/s]\n"
          ]
        },
        {
          "name": "stdout",
          "output_type": "stream",
          "text": [
            "Epoch 135: Train Acc: 97.45% | Test Acc: 85.43% | Best: 88.32%\n"
          ]
        },
        {
          "name": "stderr",
          "output_type": "stream",
          "text": [
            "Epoch 136/150: 100%|██████████| 98/98 [00:11<00:00,  8.20it/s]\n"
          ]
        },
        {
          "name": "stdout",
          "output_type": "stream",
          "text": [
            "Epoch 136: Train Acc: 97.83% | Test Acc: 86.98% | Best: 88.32%\n"
          ]
        },
        {
          "name": "stderr",
          "output_type": "stream",
          "text": [
            "Epoch 137/150: 100%|██████████| 98/98 [00:11<00:00,  8.20it/s]\n"
          ]
        },
        {
          "name": "stdout",
          "output_type": "stream",
          "text": [
            "Epoch 137: Train Acc: 97.99% | Test Acc: 88.95% | Best: 88.95%\n"
          ]
        },
        {
          "name": "stderr",
          "output_type": "stream",
          "text": [
            "Epoch 138/150: 100%|██████████| 98/98 [00:11<00:00,  8.19it/s]\n"
          ]
        },
        {
          "name": "stdout",
          "output_type": "stream",
          "text": [
            "Epoch 138: Train Acc: 98.21% | Test Acc: 88.92% | Best: 88.95%\n"
          ]
        },
        {
          "name": "stderr",
          "output_type": "stream",
          "text": [
            "Epoch 139/150: 100%|██████████| 98/98 [00:11<00:00,  8.20it/s]\n"
          ]
        },
        {
          "name": "stdout",
          "output_type": "stream",
          "text": [
            "Epoch 139: Train Acc: 98.37% | Test Acc: 89.76% | Best: 89.76%\n"
          ]
        },
        {
          "name": "stderr",
          "output_type": "stream",
          "text": [
            "Epoch 140/150: 100%|██████████| 98/98 [00:11<00:00,  8.19it/s]\n"
          ]
        },
        {
          "name": "stdout",
          "output_type": "stream",
          "text": [
            "Epoch 140: Train Acc: 98.52% | Test Acc: 89.34% | Best: 89.76%\n"
          ]
        },
        {
          "name": "stderr",
          "output_type": "stream",
          "text": [
            "Epoch 141/150: 100%|██████████| 98/98 [00:11<00:00,  8.19it/s]\n"
          ]
        },
        {
          "name": "stdout",
          "output_type": "stream",
          "text": [
            "Epoch 141: Train Acc: 98.66% | Test Acc: 90.07% | Best: 90.07%\n"
          ]
        },
        {
          "name": "stderr",
          "output_type": "stream",
          "text": [
            "Epoch 142/150: 100%|██████████| 98/98 [00:11<00:00,  8.19it/s]\n"
          ]
        },
        {
          "name": "stdout",
          "output_type": "stream",
          "text": [
            "Epoch 142: Train Acc: 98.69% | Test Acc: 89.65% | Best: 90.07%\n"
          ]
        },
        {
          "name": "stderr",
          "output_type": "stream",
          "text": [
            "Epoch 143/150: 100%|██████████| 98/98 [00:11<00:00,  8.19it/s]\n"
          ]
        },
        {
          "name": "stdout",
          "output_type": "stream",
          "text": [
            "Epoch 143: Train Acc: 98.83% | Test Acc: 89.91% | Best: 90.07%\n"
          ]
        },
        {
          "name": "stderr",
          "output_type": "stream",
          "text": [
            "Epoch 144/150: 100%|██████████| 98/98 [00:11<00:00,  8.19it/s]\n"
          ]
        },
        {
          "name": "stdout",
          "output_type": "stream",
          "text": [
            "Epoch 144: Train Acc: 98.99% | Test Acc: 90.52% | Best: 90.52%\n"
          ]
        },
        {
          "name": "stderr",
          "output_type": "stream",
          "text": [
            "Epoch 145/150: 100%|██████████| 98/98 [00:11<00:00,  8.19it/s]\n"
          ]
        },
        {
          "name": "stdout",
          "output_type": "stream",
          "text": [
            "Epoch 145: Train Acc: 98.98% | Test Acc: 90.72% | Best: 90.72%\n"
          ]
        },
        {
          "name": "stderr",
          "output_type": "stream",
          "text": [
            "Epoch 146/150: 100%|██████████| 98/98 [00:11<00:00,  8.19it/s]\n"
          ]
        },
        {
          "name": "stdout",
          "output_type": "stream",
          "text": [
            "Epoch 146: Train Acc: 99.06% | Test Acc: 90.84% | Best: 90.84%\n"
          ]
        },
        {
          "name": "stderr",
          "output_type": "stream",
          "text": [
            "Epoch 147/150: 100%|██████████| 98/98 [00:11<00:00,  8.19it/s]\n"
          ]
        },
        {
          "name": "stdout",
          "output_type": "stream",
          "text": [
            "Epoch 147: Train Acc: 99.13% | Test Acc: 90.78% | Best: 90.84%\n"
          ]
        },
        {
          "name": "stderr",
          "output_type": "stream",
          "text": [
            "Epoch 148/150: 100%|██████████| 98/98 [00:11<00:00,  8.19it/s]\n"
          ]
        },
        {
          "name": "stdout",
          "output_type": "stream",
          "text": [
            "Epoch 148: Train Acc: 99.18% | Test Acc: 90.91% | Best: 90.91%\n"
          ]
        },
        {
          "name": "stderr",
          "output_type": "stream",
          "text": [
            "Epoch 149/150: 100%|██████████| 98/98 [00:11<00:00,  8.19it/s]\n"
          ]
        },
        {
          "name": "stdout",
          "output_type": "stream",
          "text": [
            "Epoch 149: Train Acc: 99.15% | Test Acc: 90.95% | Best: 90.95%\n"
          ]
        },
        {
          "name": "stderr",
          "output_type": "stream",
          "text": [
            "Epoch 150/150: 100%|██████████| 98/98 [00:11<00:00,  8.19it/s]\n"
          ]
        },
        {
          "name": "stdout",
          "output_type": "stream",
          "text": [
            "Epoch 150: Train Acc: 99.18% | Test Acc: 90.95% | Best: 90.95%\n"
          ]
        }
      ],
      "source": [
        "device = torch.device(\"cuda\" if torch.cuda.is_available() else \"mps\" if torch.backends.mps.is_available() else \"cpu\")\n",
        "print(f\"Using device: {device}\")\n",
        "model = model.to(device)\n",
        "scaler = GradScaler(device='cuda')\n",
        "\n",
        "optimizer = optim.SGD(model.parameters(), lr=0.15, momentum=0.95, nesterov = True, weight_decay=1e-3)\n",
        "scheduler = optim.lr_scheduler.OneCycleLR(optimizer, max_lr=0.15, pct_start = 0.3, div_factor=25, final_div_factor=1e4, steps_per_epoch=len(trainloader), epochs=150)\n",
        "criterion = nn.CrossEntropyLoss(label_smoothing=0.2)\n",
        "\n",
        "train_loss, train_acc, test_acc = [], [], []\n",
        "best_acc = 0\n",
        "\n",
        "for epoch in range(150):\n",
        "    model.train()\n",
        "    total, correct = 0, 0\n",
        "\n",
        "    for inputs, labels in tqdm(trainloader, desc=f'Epoch {epoch+1}/150'):\n",
        "        inputs, labels = inputs.to(device), labels.to(device)\n",
        "\n",
        "        optimizer.zero_grad()\n",
        "\n",
        "        with autocast(device_type='cuda'):\n",
        "            outputs = model(inputs)\n",
        "            loss = criterion(outputs, labels)\n",
        "\n",
        "        scaler.scale(loss).backward()\n",
        "        scaler.unscale_(optimizer)\n",
        "        torch.nn.utils.clip_grad_norm_(model.parameters(), 0.5)\n",
        "        scaler.step(optimizer)\n",
        "        scaler.update()\n",
        "        scheduler.step()\n",
        "\n",
        "        train_loss.append(loss.item())\n",
        "        _, predicted = outputs.max(1)\n",
        "        total += labels.size(0)\n",
        "        correct += predicted.eq(labels).sum().item()\n",
        "\n",
        "    train_acc.append(100 * correct / total)\n",
        "\n",
        "    model.eval()\n",
        "    total_test, correct_test = 0, 0\n",
        "    with torch.no_grad():\n",
        "        for inputs, labels in testloader:\n",
        "            inputs, labels = inputs.to(device), labels.to(device)\n",
        "            outputs = model(inputs)\n",
        "            _, predicted = outputs.max(1)\n",
        "            total_test += labels.size(0)\n",
        "            correct_test += predicted.eq(labels).sum().item()\n",
        "\n",
        "    acc = 100 * correct_test / total_test\n",
        "    test_acc.append(acc)\n",
        "    best_acc = max(best_acc, acc)\n",
        "\n",
        "    print(f\"Epoch {epoch+1}: Train Acc: {train_acc[-1]:.2f}% | \"\n",
        "          f\"Test Acc: {acc:.2f}% | Best: {best_acc:.2f}%\")"
      ]
    },
    {
      "cell_type": "markdown",
      "metadata": {
        "id": "e6w0Tye7sfq_"
      },
      "source": [
        "#### Visualizations"
      ]
    },
    {
      "cell_type": "code",
<<<<<<< HEAD
      "execution_count": 1,
=======
      "execution_count": 9,
>>>>>>> e5ad4cd (updated to 150 epochs)
      "metadata": {
        "colab": {
          "base_uri": "https://localhost:8080/",
          "height": 558
        },
        "id": "EgDcl1O27GRh",
        "outputId": "d77067ba-54dd-44e5-979d-bb646ea4383c"
      },
      "outputs": [
        {
<<<<<<< HEAD
          "ename": "NameError",
          "evalue": "name 'plt' is not defined",
          "output_type": "error",
          "traceback": [
            "\u001b[0;31m---------------------------------------------------------------------------\u001b[0m",
            "\u001b[0;31mNameError\u001b[0m                                 Traceback (most recent call last)",
            "Cell \u001b[0;32mIn[1], line 1\u001b[0m\n\u001b[0;32m----> 1\u001b[0m plt\u001b[38;5;241m.\u001b[39mfigure(figsize\u001b[38;5;241m=\u001b[39m(\u001b[38;5;241m15\u001b[39m, \u001b[38;5;241m5\u001b[39m))\n\u001b[1;32m      3\u001b[0m colors \u001b[38;5;241m=\u001b[39m {\u001b[38;5;124m'\u001b[39m\u001b[38;5;124mtrain_loss\u001b[39m\u001b[38;5;124m'\u001b[39m: \u001b[38;5;124m'\u001b[39m\u001b[38;5;124mmaroon\u001b[39m\u001b[38;5;124m'\u001b[39m, \u001b[38;5;124m'\u001b[39m\u001b[38;5;124mtrain_acc\u001b[39m\u001b[38;5;124m'\u001b[39m: \u001b[38;5;124m'\u001b[39m\u001b[38;5;124mnavy\u001b[39m\u001b[38;5;124m'\u001b[39m, \u001b[38;5;124m'\u001b[39m\u001b[38;5;124mtest_acc\u001b[39m\u001b[38;5;124m'\u001b[39m: \u001b[38;5;124m'\u001b[39m\u001b[38;5;124mmaroon\u001b[39m\u001b[38;5;124m'\u001b[39m, \u001b[38;5;124m'\u001b[39m\u001b[38;5;124msmoothed_loss\u001b[39m\u001b[38;5;124m'\u001b[39m: \u001b[38;5;124m'\u001b[39m\u001b[38;5;124mmaroon\u001b[39m\u001b[38;5;124m'\u001b[39m}\n\u001b[1;32m      4\u001b[0m plt\u001b[38;5;241m.\u001b[39msubplot(\u001b[38;5;241m1\u001b[39m, \u001b[38;5;241m3\u001b[39m, \u001b[38;5;241m1\u001b[39m)\n",
            "\u001b[0;31mNameError\u001b[0m: name 'plt' is not defined"
=======
          "data": {
            "image/png": "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",
            "text/plain": [
              "<Figure size 1080x360 with 3 Axes>"
            ]
          },
          "metadata": {
            "needs_background": "light"
          },
          "output_type": "display_data"
        },
        {
          "name": "stdout",
          "output_type": "stream",
          "text": [
            "\n",
            "Final Report:\n",
            "Highest Test Accuracy: 90.95%\n"
>>>>>>> e5ad4cd (updated to 150 epochs)
          ]
        }
      ],
      "source": [
        "plt.figure(figsize=(15, 5))\n",
        "\n",
        "colors = {'train_loss': 'maroon', 'train_acc': 'navy', 'test_acc': 'maroon', 'smoothed_loss': 'maroon'}\n",
        "plt.subplot(1, 3, 1)\n",
        "plt.plot(train_loss, alpha=0.6)\n",
        "plt.title('Training Loss')\n",
        "plt.xlabel('Batch')\n",
        "\n",
        "plt.subplot(1, 3, 2)\n",
        "plt.plot(train_acc, label='Train')\n",
        "plt.plot(test_acc, label='Test')\n",
        "plt.title('Accuracy')\n",
        "plt.legend()\n",
        "\n",
        "plt.subplot(1, 3, 3)\n",
        "smoothed = np.convolve(train_loss, np.ones(100)/100, mode='valid')\n",
        "plt.plot(smoothed)\n",
        "plt.title('Smoothed Loss (100 batches)')\n",
        "plt.tight_layout()\n",
        "\n",
        "plt.savefig('training_metrics.png')\n",
        "plt.show()\n",
        "\n",
        "print(f\"\\nFinal Report:\")\n",
        "print(f\"Highest Test Accuracy: {best_acc:.2f}%\")"
      ]
    },
    {
      "cell_type": "code",
      "execution_count": 9,
      "metadata": {
        "id": "fewsDCkTsXCF"
      },
      "outputs": [],
      "source": []
    }
  ],
  "metadata": {
    "accelerator": "GPU",
    "colab": {
      "gpuType": "A100",
      "machine_shape": "hm",
      "provenance": []
    },
    "kernelspec": {
      "display_name": "base",
      "language": "python",
      "name": "python3"
    },
    "language_info": {
      "codemirror_mode": {
        "name": "ipython",
        "version": 3
      },
      "file_extension": ".py",
      "mimetype": "text/x-python",
      "name": "python",
      "nbconvert_exporter": "python",
      "pygments_lexer": "ipython3",
      "version": "3.12.7"
    }
  },
  "nbformat": 4,
  "nbformat_minor": 0
}
